{
 "cells": [
  {
   "cell_type": "markdown",
   "metadata": {},
   "source": [
    "<h1><center>Лабораторная работа №1</center></h1>\n",
    "<h2><center>по дисциплине «Анализ данных».</center></h2>\n",
    "\n",
    "> Задание:\n",
    "\n",
    "Найти датасет.\n",
    "* Произвести выборки,\n",
    "* определить t-критерий Стьюдента.\n",
    "* anova test\n",
    "* Сделать выводы."
   ]
  },
  {
   "cell_type": "markdown",
   "metadata": {},
   "source": [
    "* H0 - потребление электроэнергии\n",
    "* H1 - потребление электроэнергии после внедрения энергосберегающий мероприятий\n"
   ]
  },
  {
   "cell_type": "code",
   "execution_count": 43,
   "metadata": {},
   "outputs": [],
   "source": [
    "import numpy as np\n",
    "import scipy.stats as stats\n",
    "import matplotlib.pyplot as plt\n",
    "import csv\n",
    "\n",
    "%matplotlib inline"
   ]
  },
  {
   "cell_type": "code",
   "execution_count": 44,
   "metadata": {},
   "outputs": [],
   "source": [
    "with open('dataset.csv') as csvfile:\n",
    "    dataset = csv.reader(csvfile)\n",
    "    data = [row for row in dataset]"
   ]
  },
  {
   "cell_type": "code",
   "execution_count": 45,
   "metadata": {},
   "outputs": [
    {
     "name": "stdout",
     "output_type": "stream",
     "text": [
      "TtestResult(statistic=2.162915279132904, pvalue=0.03298020209434367, df=98.0)\n",
      "0.03298020209434367\n"
     ]
    }
   ],
   "source": [
    "before = [int(row[0]) for row in data]\n",
    "after = [int(row[1]) for row in data]\n",
    "\n",
    "result = stats.ttest_ind(a=before, b=after)\n",
    "\n",
    "print(result)\n",
    "print(result.pvalue)"
   ]
  },
  {
   "cell_type": "markdown",
   "metadata": {},
   "source": [
    "#### Вывод: Из-за того, что значение р-теста (0.03) меньше, чем альфа = 0.05, следовательно, на уровне статистики мы можем отвергнуть нулевую гипотезу и утверждать, потребление электричества после внедрения энергосберегающий мероприятий меньше, чем до"
   ]
  },
  {
   "cell_type": "markdown",
   "metadata": {},
   "source": [
    "### Anova test\n",
    "Построим блочную диаграмму:"
   ]
  },
  {
   "cell_type": "code",
   "execution_count": 46,
   "metadata": {},
   "outputs": [
    {
     "data": {
      "text/plain": [
       "Text(0.5, 1.0, 'Потребление электричества')"
      ]
     },
     "execution_count": 46,
     "metadata": {},
     "output_type": "execute_result"
    },
    {
     "data": {
      "image/png": "[encoded data removed]",
      "text/plain": [
       "<Figure size 640x480 with 1 Axes>"
      ]
     },
     "metadata": {},
     "output_type": "display_data"
    }
   ],
   "source": [
    "plt.boxplot([before, after], labels=[\"До\", \"После\"])\n",
    "plt.title(\"Потребление электричества\")"
   ]
  },
  {
   "cell_type": "code",
   "execution_count": 47,
   "metadata": {},
   "outputs": [
    {
     "data": {
      "text/plain": [
       "F_onewayResult(statistic=4.678202504706558, pvalue=0.032980202094343644)"
      ]
     },
     "execution_count": 47,
     "metadata": {},
     "output_type": "execute_result"
    }
   ],
   "source": [
    "stats.f_oneway(before, after)"
   ]
  },
  {
   "cell_type": "markdown",
   "metadata": {},
   "source": [
    "### Вывод: P < 0.05, поэтому мы можем отклонить нулевую гипотезу."
   ]
  }
 ],
 "metadata": {
  "kernelspec": {
   "display_name": "Python 3",
   "language": "python",
   "name": "python3"
  },
  "language_info": {
   "codemirror_mode": {
    "name": "ipython",
    "version": 3
   },
   "file_extension": ".py",
   "mimetype": "text/x-python",
   "name": "python",
   "nbconvert_exporter": "python",
   "pygments_lexer": "ipython3",
   "version": "3.11.6"
  }
 },
 "nbformat": 4,
 "nbformat_minor": 2
}
